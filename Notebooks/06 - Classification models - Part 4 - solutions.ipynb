{
 "cells": [
  {
   "cell_type": "markdown",
   "metadata": {},
   "source": [
    "# Week 6 - Classification models  \n",
    "\n",
    "## Part 4: Travel mode choice - Hierarchical models\n",
    "\n",
    "In this part, is where we start to make things more interesting :-)\n",
    "\n",
    "We will revisit the original real world problem of travel model choice (with 4 classes), but this time we shall consider an hierarchical model. \n",
    "\n",
    "More on that later, for now the same stuff from part 2: imports, loading data, preprocessing, train/test split, etc."
   ]
  },
  {
   "cell_type": "markdown",
   "metadata": {},
   "source": [
    "Import required libraries:"
   ]
  },
  {
   "cell_type": "code",
   "execution_count": 14,
   "metadata": {
    "collapsed": true
   },
   "outputs": [],
   "source": [
    "import numpy as np\n",
    "import pandas as pd\n",
    "from matplotlib import pyplot as plt\n",
    "from sklearn import linear_model\n",
    "import pystan\n",
    "import pystan_utils\n",
    "\n",
    "# fix random generator seed (for reproducibility of results)\n",
    "np.random.seed(42)\n",
    "\n",
    "# matplotlib style options\n",
    "plt.style.use('ggplot')\n",
    "%matplotlib inline\n",
    "plt.rcParams['figure.figsize'] = (16, 10)"
   ]
  },
  {
   "cell_type": "markdown",
   "metadata": {},
   "source": [
    "Load data:"
   ]
  },
  {
   "cell_type": "code",
   "execution_count": 2,
   "metadata": {},
   "outputs": [
    {
     "data": {
      "text/html": [
       "<div>\n",
       "<style>\n",
       "    .dataframe thead tr:only-child th {\n",
       "        text-align: right;\n",
       "    }\n",
       "\n",
       "    .dataframe thead th {\n",
       "        text-align: left;\n",
       "    }\n",
       "\n",
       "    .dataframe tbody tr th {\n",
       "        vertical-align: top;\n",
       "    }\n",
       "</style>\n",
       "<table border=\"1\" class=\"dataframe\">\n",
       "  <thead>\n",
       "    <tr style=\"text-align: right;\">\n",
       "      <th></th>\n",
       "      <th>Unnamed: 0</th>\n",
       "      <th>individual</th>\n",
       "      <th>hinc</th>\n",
       "      <th>psize</th>\n",
       "      <th>ttme_air</th>\n",
       "      <th>invc_air</th>\n",
       "      <th>invt_air</th>\n",
       "      <th>gc_air</th>\n",
       "      <th>ttme_train</th>\n",
       "      <th>invc_train</th>\n",
       "      <th>invt_train</th>\n",
       "      <th>gc_train</th>\n",
       "      <th>ttme_bus</th>\n",
       "      <th>invc_bus</th>\n",
       "      <th>invt_bus</th>\n",
       "      <th>gc_bus</th>\n",
       "      <th>invc_car</th>\n",
       "      <th>invt_car</th>\n",
       "      <th>gc_car</th>\n",
       "      <th>mode_chosen</th>\n",
       "    </tr>\n",
       "  </thead>\n",
       "  <tbody>\n",
       "    <tr>\n",
       "      <th>0</th>\n",
       "      <td>0</td>\n",
       "      <td>70.0</td>\n",
       "      <td>30.0</td>\n",
       "      <td>4.0</td>\n",
       "      <td>10.0</td>\n",
       "      <td>61.0</td>\n",
       "      <td>80.0</td>\n",
       "      <td>73.0</td>\n",
       "      <td>44.0</td>\n",
       "      <td>24.0</td>\n",
       "      <td>350.0</td>\n",
       "      <td>77.0</td>\n",
       "      <td>53.0</td>\n",
       "      <td>19.0</td>\n",
       "      <td>395.0</td>\n",
       "      <td>79.0</td>\n",
       "      <td>4.0</td>\n",
       "      <td>314.0</td>\n",
       "      <td>52.0</td>\n",
       "      <td>1.0</td>\n",
       "    </tr>\n",
       "    <tr>\n",
       "      <th>1</th>\n",
       "      <td>1</td>\n",
       "      <td>8.0</td>\n",
       "      <td>15.0</td>\n",
       "      <td>4.0</td>\n",
       "      <td>64.0</td>\n",
       "      <td>48.0</td>\n",
       "      <td>154.0</td>\n",
       "      <td>71.0</td>\n",
       "      <td>55.0</td>\n",
       "      <td>25.0</td>\n",
       "      <td>360.0</td>\n",
       "      <td>80.0</td>\n",
       "      <td>53.0</td>\n",
       "      <td>14.0</td>\n",
       "      <td>462.0</td>\n",
       "      <td>84.0</td>\n",
       "      <td>4.0</td>\n",
       "      <td>351.0</td>\n",
       "      <td>57.0</td>\n",
       "      <td>2.0</td>\n",
       "    </tr>\n",
       "    <tr>\n",
       "      <th>2</th>\n",
       "      <td>2</td>\n",
       "      <td>62.0</td>\n",
       "      <td>35.0</td>\n",
       "      <td>2.0</td>\n",
       "      <td>64.0</td>\n",
       "      <td>58.0</td>\n",
       "      <td>74.0</td>\n",
       "      <td>69.0</td>\n",
       "      <td>30.0</td>\n",
       "      <td>21.0</td>\n",
       "      <td>295.0</td>\n",
       "      <td>66.0</td>\n",
       "      <td>53.0</td>\n",
       "      <td>24.0</td>\n",
       "      <td>389.0</td>\n",
       "      <td>83.0</td>\n",
       "      <td>7.0</td>\n",
       "      <td>315.0</td>\n",
       "      <td>55.0</td>\n",
       "      <td>2.0</td>\n",
       "    </tr>\n",
       "    <tr>\n",
       "      <th>3</th>\n",
       "      <td>3</td>\n",
       "      <td>61.0</td>\n",
       "      <td>40.0</td>\n",
       "      <td>3.0</td>\n",
       "      <td>45.0</td>\n",
       "      <td>75.0</td>\n",
       "      <td>75.0</td>\n",
       "      <td>96.0</td>\n",
       "      <td>44.0</td>\n",
       "      <td>33.0</td>\n",
       "      <td>418.0</td>\n",
       "      <td>96.0</td>\n",
       "      <td>53.0</td>\n",
       "      <td>28.0</td>\n",
       "      <td>463.0</td>\n",
       "      <td>98.0</td>\n",
       "      <td>5.0</td>\n",
       "      <td>291.0</td>\n",
       "      <td>49.0</td>\n",
       "      <td>1.0</td>\n",
       "    </tr>\n",
       "    <tr>\n",
       "      <th>4</th>\n",
       "      <td>4</td>\n",
       "      <td>27.0</td>\n",
       "      <td>70.0</td>\n",
       "      <td>1.0</td>\n",
       "      <td>20.0</td>\n",
       "      <td>106.0</td>\n",
       "      <td>190.0</td>\n",
       "      <td>127.0</td>\n",
       "      <td>34.0</td>\n",
       "      <td>72.0</td>\n",
       "      <td>659.0</td>\n",
       "      <td>143.0</td>\n",
       "      <td>35.0</td>\n",
       "      <td>33.0</td>\n",
       "      <td>653.0</td>\n",
       "      <td>104.0</td>\n",
       "      <td>44.0</td>\n",
       "      <td>592.0</td>\n",
       "      <td>108.0</td>\n",
       "      <td>1.0</td>\n",
       "    </tr>\n",
       "  </tbody>\n",
       "</table>\n",
       "</div>"
      ],
      "text/plain": [
       "   Unnamed: 0  individual  hinc  psize  ttme_air  invc_air  invt_air  gc_air  \\\n",
       "0           0        70.0  30.0    4.0      10.0      61.0      80.0    73.0   \n",
       "1           1         8.0  15.0    4.0      64.0      48.0     154.0    71.0   \n",
       "2           2        62.0  35.0    2.0      64.0      58.0      74.0    69.0   \n",
       "3           3        61.0  40.0    3.0      45.0      75.0      75.0    96.0   \n",
       "4           4        27.0  70.0    1.0      20.0     106.0     190.0   127.0   \n",
       "\n",
       "   ttme_train  invc_train  invt_train  gc_train  ttme_bus  invc_bus  invt_bus  \\\n",
       "0        44.0        24.0       350.0      77.0      53.0      19.0     395.0   \n",
       "1        55.0        25.0       360.0      80.0      53.0      14.0     462.0   \n",
       "2        30.0        21.0       295.0      66.0      53.0      24.0     389.0   \n",
       "3        44.0        33.0       418.0      96.0      53.0      28.0     463.0   \n",
       "4        34.0        72.0       659.0     143.0      35.0      33.0     653.0   \n",
       "\n",
       "   gc_bus  invc_car  invt_car  gc_car  mode_chosen  \n",
       "0    79.0       4.0     314.0    52.0          1.0  \n",
       "1    84.0       4.0     351.0    57.0          2.0  \n",
       "2    83.0       7.0     315.0    55.0          2.0  \n",
       "3    98.0       5.0     291.0    49.0          1.0  \n",
       "4   104.0      44.0     592.0   108.0          1.0  "
      ]
     },
     "execution_count": 2,
     "metadata": {},
     "output_type": "execute_result"
    }
   ],
   "source": [
    "# load csv\n",
    "df = pd.read_csv(\"modechoice_data.csv\")\n",
    "df.head()"
   ]
  },
  {
   "cell_type": "markdown",
   "metadata": {},
   "source": [
    "Preprocess data:"
   ]
  },
  {
   "cell_type": "code",
   "execution_count": 6,
   "metadata": {},
   "outputs": [
    {
     "name": "stdout",
     "output_type": "stream",
     "text": [
      "(394, 17)\n",
      "(394,)\n",
      "(394,)\n"
     ]
    }
   ],
   "source": [
    "# separate between features/inputs (X) and target/output variables (y)\n",
    "mat = df.as_matrix()\n",
    "X = mat[:,2:-1]\n",
    "print(X.shape)\n",
    "y = mat[:,-1].astype(\"int\")\n",
    "print(y.shape)\n",
    "ind = mat[:,1].astype(\"int\")\n",
    "print(ind.shape)"
   ]
  },
  {
   "cell_type": "code",
   "execution_count": 7,
   "metadata": {
    "collapsed": true
   },
   "outputs": [],
   "source": [
    "# standardize input features\n",
    "X_mean = X.mean(axis=0)\n",
    "X_std = X.std(axis=0)\n",
    "X = (X - X_mean) / X_std"
   ]
  },
  {
   "cell_type": "markdown",
   "metadata": {},
   "source": [
    "Train/test split:"
   ]
  },
  {
   "cell_type": "code",
   "execution_count": 8,
   "metadata": {},
   "outputs": [
    {
     "name": "stdout",
     "output_type": "stream",
     "text": [
      "num train: 260\n",
      "num test: 134\n"
     ]
    }
   ],
   "source": [
    "train_perc = 0.66 # percentage of training data\n",
    "split_point = int(train_perc*len(y))\n",
    "perm = np.random.permutation(len(y))\n",
    "ix_train = perm[:split_point]\n",
    "ix_test = perm[split_point:]\n",
    "X_train = X[ix_train,:]\n",
    "X_test = X[ix_test,:]\n",
    "ind_train = ind[ix_train]\n",
    "ind_test = ind[ix_test]\n",
    "y_train = y[ix_train]\n",
    "y_test = y[ix_test]\n",
    "print(\"num train: %d\" % len(y_train))\n",
    "print(\"num test: %d\" % len(y_test))"
   ]
  },
  {
   "cell_type": "markdown",
   "metadata": {},
   "source": [
    "Our baseline logistic regression model from sklearn:"
   ]
  },
  {
   "cell_type": "code",
   "execution_count": 9,
   "metadata": {},
   "outputs": [
    {
     "name": "stdout",
     "output_type": "stream",
     "text": [
      "predictions: [2 2 4 4 4 2 1 2 1 4 4 3 1 4 2 1 1 2 1 2 4 4 4 4 2 4 2 4 1 2 4 4 4 2 3 4 1\n",
      " 3 2 1 4 4 2 2 2 4 1 3 2 3 1 4 4 1 1 4 2 4 1 1 3 2 4 2 4 4 4 3 2 1 2 4 2 4\n",
      " 4 4 1 4 4 2 4 4 1 4 3 4 4 4 1 4 3 1 4 2 1 4 1 1 4 4 1 1 4 1 3 2 4 4 4 1 4\n",
      " 4 1 1 3 1 1 4 3 2 4 1 4 2 1 1 2 2 2 1 4 4 4 2]\n",
      "true values: [4 2 2 4 4 2 1 2 4 4 4 4 1 2 2 1 3 4 1 2 4 3 1 4 2 4 2 1 3 2 4 4 4 4 2 1 1\n",
      " 3 2 1 4 2 2 2 4 1 1 3 2 3 1 2 4 4 1 4 2 4 4 3 3 4 4 4 4 1 1 3 2 1 2 4 2 4\n",
      " 4 4 1 2 4 2 4 4 1 4 3 1 4 4 1 4 3 1 1 2 4 4 4 4 4 1 4 3 3 1 3 2 4 4 4 1 4\n",
      " 4 4 1 4 1 1 4 3 2 1 1 4 2 4 1 2 4 2 1 1 1 4 4]\n",
      "Accuracy: 0.679104477612\n"
     ]
    }
   ],
   "source": [
    "# create and fit logistic regression model\n",
    "logreg = linear_model.LogisticRegression(C=1e5)\n",
    "logreg.fit(X_train, y_train)\n",
    "\n",
    "# make predictions for test set\n",
    "y_hat = logreg.predict(X_test)\n",
    "print(\"predictions:\", y_hat)\n",
    "print(\"true values:\", y_test)\n",
    "\n",
    "# evaluate prediction accuracy\n",
    "print(\"Accuracy:\", 1.0*np.sum(y_hat == y_test) / len(y_test))"
   ]
  },
  {
   "cell_type": "markdown",
   "metadata": {},
   "source": [
    "## Hierarchical logistic regression in STAN\n",
    "\n",
    "We will now implement a hierarchical logistic regression. The motivation is actually quite simple. Our dataset consists of multiple observations from various individuals. However, when we build our logistic regression in STAN, our specification assumes that all individuals share a unique set of bias (alpha) coefficients (beta). In other words, this is equivalent to assuming, for example, that all individuals are equally biased towards a given mode (e.g. car). This is obviously a very strong assumption, right? We should allow different individuals to have different biases (alpha). (We could also consider different coefficients per individual, but for the sake of simplicy, we will just focus on the bias parameters)\n",
    "\n",
    "This can be done by placing a hierarchical prior on the intercepts (alpha). The generative process then becomes:\n",
    "\n",
    "1. For each class $c \\in \\{1,\\dots,C\\}$\n",
    "    2. Draw global intercept mean $\\mu_c \\sim \\mathcal{N}(0,10)$\n",
    "    3. Draw global intercept variance $\\sigma_c \\sim \\mbox{Cauchy}(0,10)$\n",
    "    4. Draw prior on intercept $\\boldsymbol\\alpha_c \\sim \\mathcal{N}(\\mu_c \\textbf{1},\\sigma_c \\textbf{I})$\n",
    "    5. Draw prior on coefficients $\\boldsymbol\\beta_c \\sim \\mathcal{N}(\\textbf{0},10 \\, \\textbf{I})$ (this the same as before...)\n",
    "6. For each data point $n=\\{1,\\dots,N\\}$\n",
    "    7. Draw target class $y_n \\sim \\mbox{Multinomial}(\\mbox{Softmax}(\\textbf{x}_n,\\boldsymbol\\alpha_1^{i_n},\\dots,\\boldsymbol\\alpha_C^{i_n},\\boldsymbol\\beta_1,\\dots,\\boldsymbol\\beta_C))$\n",
    "    \n",
    "where $i_n$ is used to denote the individual to which the $n^{th}$ observation corresponds to.\n",
    "\n",
    "Notice that now, instead of a single intercept per class $\\alpha_c$ for all individual, we now have a vector of intercepts $\\boldsymbol\\alpha_c$ for each class $c$: one intercept parameter per individual! However, all these intercept share a global (population-level) prior.\n",
    "\n",
    "Lets try to implement this in STAN. Can you do it? :-) "
   ]
  },
  {
   "cell_type": "code",
   "execution_count": 10,
   "metadata": {
    "collapsed": true
   },
   "outputs": [],
   "source": [
    "# define Stan model\n",
    "model_definition = \"\"\"\n",
    "\n",
    "data {\n",
    "    int<lower=0> N;             // number of data items\n",
    "    int<lower=1> D;             // number of predictors\n",
    "    int<lower=1> C;             // number of classes\n",
    "    int<lower=1> I;             // number of individuals\n",
    "    int<lower=1> ind[N];        // information about the individual\n",
    "    matrix[N,D] X;              // predictor matrix\n",
    "    int<lower=1,upper=C> y[N];  // classes vector\n",
    "}\n",
    "parameters {\n",
    "    vector[C] mu_prior;\n",
    "    vector<lower=0>[C] sigma_prior;\n",
    "    matrix[C, I] alpha; // intercepts (biases) for each individual \n",
    "    matrix[C, D] beta;  // coefficients for predictors\n",
    "} \n",
    "model {\n",
    "    for (c in 1:C) {\n",
    "        mu_prior[c] ~ normal(0,10);    // hyper-prior on the intercepts mean\n",
    "        sigma_prior[c] ~ cauchy(0,10); // hyper-prior on the intercepts variance\n",
    "        alpha[c] ~ normal(mu_prior[c], sigma_prior[c]);\n",
    "        beta[c] ~ normal(0,10);        // prior on the coefficients\n",
    "    }\n",
    "    for (n in 1:N)\n",
    "        y[n] ~ categorical(softmax(alpha[:,ind[n]] + beta * X[n]')); // likelihood\n",
    "}\n",
    "\"\"\""
   ]
  },
  {
   "cell_type": "markdown",
   "metadata": {},
   "source": [
    "Prepare input data for STAN, compile STAN program and run inference using ADVI (much faster in this case):"
   ]
  },
  {
   "cell_type": "code",
   "execution_count": 11,
   "metadata": {},
   "outputs": [
    {
     "name": "stdout",
     "output_type": "stream",
     "text": [
      "N=260, D=17, C=4, I=80\n"
     ]
    }
   ],
   "source": [
    "# prepare data for Stan model\n",
    "N, D = X_train.shape\n",
    "C = int(y_train.max())\n",
    "I = ind.max()\n",
    "print(\"N=%d, D=%d, C=%d, I=%d\" % (N,D,C,I))\n",
    "data = {'N': N, 'D': D, 'C': C, 'I':I, 'ind':ind_train, 'X': X_train, 'y': y_train}"
   ]
  },
  {
   "cell_type": "code",
   "execution_count": 12,
   "metadata": {},
   "outputs": [
    {
     "name": "stderr",
     "output_type": "stream",
     "text": [
      "INFO:pystan:COMPILING THE C++ CODE FOR MODEL anon_model_eb0cadbe23ce4254aecddddd9d6fde04 NOW.\n",
      "WARNING:pystan:Automatic Differentiation Variational Inference (ADVI) is an EXPERIMENTAL ALGORITHM.\n",
      "WARNING:pystan:ADVI samples may be found on the filesystem in the file `/var/folders/sz/2168fj0j081bv6vc6cgg3mc40000gn/T/tmpoVtwsX/output.csv`\n"
     ]
    },
    {
     "name": "stdout",
     "output_type": "stream",
     "text": [
      "CPU times: user 1min 4s, sys: 461 ms, total: 1min 4s\n",
      "Wall time: 1min 35s\n"
     ]
    }
   ],
   "source": [
    "%%time\n",
    "# create Stan model object\n",
    "sm = pystan.StanModel(model_code=model_definition)\n",
    "fit = sm.vb(data=data, iter=10000, algorithm=\"meanfield\", grad_samples=10, seed=42, verbose=True)"
   ]
  },
  {
   "cell_type": "markdown",
   "metadata": {},
   "source": [
    "Lets plot the posterior distributions of some of the parameters of our model (you may have called these variables something else...):"
   ]
  },
  {
   "cell_type": "code",
   "execution_count": 26,
   "metadata": {},
   "outputs": [
    {
     "data": {
      "image/png": "[encoded data removed]",
      "text/plain": [
       "<matplotlib.figure.Figure at 0x118004910>"
      ]
     },
     "metadata": {},
     "output_type": "display_data"
    }
   ],
   "source": [
    "pystan_utils.vb_plot_variables(fit, \"mu_prior\")"
   ]
  },
  {
   "cell_type": "code",
   "execution_count": 27,
   "metadata": {},
   "outputs": [
    {
     "data": {
      "image/png": "[encoded data removed]",
      "text/plain": [
       "<matplotlib.figure.Figure at 0x11805ac50>"
      ]
     },
     "metadata": {},
     "output_type": "display_data"
    }
   ],
   "source": [
    "pystan_utils.vb_plot_variables(fit, \"sigma_prior\")"
   ]
  },
  {
   "cell_type": "markdown",
   "metadata": {},
   "source": [
    "We can now use the inferred posteriors to make predictions. Lets first use the \"pystan_utils\" package to extract the expected values of the posterior distribution of the model parameters:"
   ]
  },
  {
   "cell_type": "code",
   "execution_count": null,
   "metadata": {},
   "outputs": [],
   "source": [
    "# get fitted parameters\n",
    "mu_prior = pystan_utils.vb_extract_variable(fit, \"mu_prior\", var_type=\"vector\")\n",
    "sigma_prior = pystan_utils.vb_extract_variable(fit, \"sigma_prior\", var_type=\"vector\")\n",
    "alpha = pystan_utils.vb_extract_variable(fit, \"alpha\", var_type=\"matrix\", dims=(C,I))\n",
    "beta = pystan_utils.vb_extract_variable(fit, \"beta\", var_type=\"matrix\", dims=(C,D))"
   ]
  },
  {
   "cell_type": "markdown",
   "metadata": {},
   "source": [
    "Using expected values of the parameters, we can make predictions for the testset. However, we need to account for the fact that we now have different bias parameters per-individual, and adapt the code for making predictions accordingly. Make sure that you understand the code below. As always, if something is not 100% clear, ask! :-)"
   ]
  },
  {
   "cell_type": "code",
   "execution_count": 21,
   "metadata": {},
   "outputs": [
    {
     "name": "stdout",
     "output_type": "stream",
     "text": [
      "predictions: [2 2 4 4 4 2 1 4 4 4 4 4 1 2 2 1 4 4 1 2 1 3 4 4 2 4 2 1 1 2 4 4 4 2 3 1 1\n",
      " 3 2 4 4 2 2 2 4 1 1 3 2 3 1 2 4 4 1 4 2 4 4 1 3 4 4 2 4 1 4 3 2 1 2 4 2 4\n",
      " 4 4 1 4 4 2 4 4 1 4 3 2 4 4 1 4 3 1 1 2 1 4 4 1 4 1 1 4 2 4 3 2 4 4 2 1 4\n",
      " 2 3 1 3 1 1 4 3 2 3 1 4 2 1 1 2 2 2 1 1 4 4 4]\n",
      "true values: [4 2 2 4 4 2 1 2 4 4 4 4 1 2 2 1 3 4 1 2 4 3 1 4 2 4 2 1 3 2 4 4 4 4 2 1 1\n",
      " 3 2 1 4 2 2 2 4 1 1 3 2 3 1 2 4 4 1 4 2 4 4 3 3 4 4 4 4 1 1 3 2 1 2 4 2 4\n",
      " 4 4 1 2 4 2 4 4 1 4 3 1 4 4 1 4 3 1 1 2 4 4 4 4 4 1 4 3 3 1 3 2 4 4 4 1 4\n",
      " 4 4 1 4 1 1 4 3 2 1 1 4 2 4 1 2 4 2 1 1 1 4 4]\n",
      "Accuracy: 0.783582089552\n"
     ]
    }
   ],
   "source": [
    "# make predictions for test set\n",
    "y_hat = alpha[:,ind_test-1] + np.dot(beta, X_test.T)\n",
    "y_hat = np.argmax(y_hat, axis=0) + 1\n",
    "print(\"predictions:\", y_hat)\n",
    "print(\"true values:\", y_test)\n",
    "\n",
    "# evaluate prediction accuracy\n",
    "print(\"Accuracy:\", 1.0*np.sum(y_hat == y_test) / len(y_test))"
   ]
  },
  {
   "cell_type": "markdown",
   "metadata": {},
   "source": [
    "Now, that is a signficant improvement, right? We improved the accuracy of our model from 67.9% to about 78.4%! (Hopefully you were able to obtain a similar or even better result :-)\n",
    "\n",
    "Did you see how your prior knowledge about the problem can make a substantial difference when building a model for it? This is how things are done in the model-based machine learning approach!"
   ]
  },
  {
   "cell_type": "markdown",
   "metadata": {},
   "source": [
    "Given the posterior distributions inferred by STAN, we can even analyse the biases of different individuals identified by out model:"
   ]
  },
  {
   "cell_type": "code",
   "execution_count": 22,
   "metadata": {},
   "outputs": [
    {
     "name": "stdout",
     "output_type": "stream",
     "text": [
      "0 [ 0.58266789 -0.2529364  -0.9521211   6.74234459]\n",
      "1 [ 0.64295738  0.0303586  -1.19126283  1.82653738]\n",
      "2 [ 0.77400521 -0.0806438  -1.1049635  -0.19998082]\n",
      "3 [ 0.72243269  0.12530821 -1.17085762 -1.33063487]\n",
      "4 [ 0.59452469 -0.64780872 -0.33900543  0.04751799]\n",
      "5 [ 0.5086094  -0.21101319 -0.60118615  0.52498454]\n",
      "6 [ 0.2574214  -0.14532791 -0.27664969  2.70988024]\n",
      "7 [ 0.41722873  0.00678475 -0.58828696 -0.09316847]\n",
      "8 [ 0.60819952  0.06058608 -0.97465653  0.12356268]\n",
      "9 [ 0.58368515 -0.23883909 -0.89581743  7.45367308]\n",
      "10 [ 0.85222975  0.10819118 -1.22064754 -2.36556174]\n",
      "11 [ 0.53863888  0.26571844 -0.90238662  1.18977566]\n",
      "12 [ 0.41523024  0.69259391 -1.12706253  4.38428554]\n",
      "13 [ 0.51707518  0.18833694 -0.96575966 -0.31913113]\n",
      "14 [ 0.56715655  0.1646114  -1.12921667  1.76262578]\n",
      "15 [  5.29307970e-01  -2.05725196e-03  -9.53720912e-01   4.75826938e+00]\n",
      "16 [ 0.6535061   0.18451442 -1.00008792 -0.43169122]\n",
      "17 [ 0.54181428  0.00969389 -0.91395555  3.66861345]\n",
      "18 [ 0.50785732  0.47825943 -1.07929531  1.05502061]\n",
      "19 [ 0.44217327 -0.33668637 -0.63323235  6.17320923]\n",
      "20 [ 0.53109028 -0.01928592 -0.98042377  2.32163423]\n",
      "21 [ 0.64987501  0.04296798 -0.96476008 -0.20623937]\n",
      "22 [ 0.49960556  0.1490606  -0.65541486 -1.93945007]\n",
      "23 [ 0.49825185  0.19330733 -0.93636568  2.59547436]\n",
      "24 [ 0.55851877 -0.13687612 -1.01732298  5.64087927]\n",
      "25 [ 0.72231045  0.05246572 -1.02577261 -0.64259486]\n",
      "26 [ 0.74564749 -0.09147902 -1.2621426   0.87113203]\n",
      "27 [ 0.47416445  0.15560375 -0.91847787  2.51004912]\n",
      "28 [  0.60306727  -0.61547091  -1.02883383  14.92553851]\n",
      "29 [ 0.40586938  0.05343183 -0.36982918 -1.05060873]\n",
      "30 [ 0.4778997   0.66264632 -1.58358781  6.33144913]\n",
      "31 [ 0.6407455  -0.15412496 -0.92242253  4.84052758]\n",
      "32 [ 0.80945074 -0.04383346 -1.14632762 -2.02580539]\n",
      "33 [ 0.49508616  0.00727865 -0.90178946  2.1845985 ]\n",
      "34 [ 0.48850517  0.0568896  -0.89816732  1.47353365]\n",
      "35 [ 0.66862545  0.08110505 -0.97646642 -0.29344202]\n",
      "36 [ 0.5006392   0.46233806 -1.06158947  0.67062958]\n",
      "37 [ 0.66274031 -0.02142457 -1.01681676 -0.18202234]\n",
      "38 [  4.59886999e-01  -8.04611840e-04  -1.25362088e+00   1.34333585e+01]\n",
      "39 [ 0.54760763 -0.12935407 -0.79216442  2.69656718]\n",
      "40 [ 0.8507843  -0.20798443 -1.20733684 -3.0018621 ]\n",
      "41 [ 0.90590553 -0.42672847 -1.05604578 -1.56184677]\n",
      "42 [ 0.57780449 -0.11114509 -0.97815878  5.75905114]\n",
      "43 [ 0.42342952  0.02310995 -1.01163883  9.62496763]\n",
      "44 [ 0.81270067 -0.21167111 -0.99504337 -1.51611169]\n",
      "45 [ 0.6706018   0.10529444 -0.88599822  0.93779301]\n",
      "46 [ 0.44176302  0.14332962 -0.64500789  0.73624083]\n",
      "47 [ 0.5709762  -0.41904149 -0.96475205  9.26452469]\n",
      "48 [  0.45669589  -0.18911686  -0.92501736  10.99550138]\n",
      "49 [ 0.54960299  0.56442608 -1.00198622 -1.14069251]\n",
      "50 [ 0.58231598  0.27417193 -0.92428348 -0.87414582]\n",
      "51 [ 0.79925687 -0.03106886 -1.15179891 -1.67996034]\n",
      "52 [ 0.57641887 -0.28349287 -0.91218948  7.65628376]\n",
      "53 [ 0.39211688  0.09731757 -0.44833755 -3.6286243 ]\n",
      "54 [  0.43470081  -0.41883933  -0.90126818  13.71764299]\n",
      "55 [ 0.58912098 -0.13273437 -0.95656352  5.53440953]\n",
      "56 [ 0.47140932  0.0742742  -0.93496278  5.66555965]\n",
      "57 [ 0.58331747  0.43118854 -0.97134634 -1.2558263 ]\n",
      "58 [ 0.40164066  1.13069473 -1.25084689 -4.24555579]\n",
      "59 [  0.39269345  -0.16056957  -0.9405173   13.63232969]\n",
      "60 [ 0.59783355  0.1889353  -0.94117165 -1.96819415]\n",
      "61 [ 0.65841953  0.06393799 -1.02032446 -0.83031194]\n",
      "62 [ 0.53874306  0.13453089 -0.95817219  0.82522127]\n",
      "63 [ 0.66304542  0.20973935 -1.29815178  3.67224782]\n",
      "64 [ 0.73037686  0.01648949 -1.0707177   1.47002369]\n",
      "65 [ 0.55199054 -0.04251711 -0.90841217  5.52858777]\n",
      "66 [  0.58268973  -0.70155468  -0.92504483  14.53943484]\n",
      "67 [ 0.38466849  0.83623212 -1.09658814  0.25219837]\n",
      "68 [ 0.75892998 -0.11988198 -1.16723359 -0.7096832 ]\n",
      "69 [ 0.68565998 -0.3255083  -0.93118681  3.95793823]\n",
      "70 [  0.52452024  -0.20386594  -1.05959944  11.99276999]\n",
      "71 [ 0.5957747   0.16347099 -0.92667314 -0.5068081 ]\n",
      "72 [ 0.43677041  0.72091166 -0.91467617 -1.2772854 ]\n",
      "73 [ 0.7991621  -0.35831575 -1.10326703  2.26560417]\n",
      "74 [ 0.50488734  0.36438376 -1.23517079  4.31006302]\n",
      "75 [ 0.27318322  0.03536583 -0.16019077 -2.06108101]\n",
      "76 [ 0.63862477 -0.13803179 -0.94790238  2.35777657]\n",
      "77 [ 0.64328108  0.04226869 -0.94279489  2.56516666]\n",
      "78 [ 0.68549147  0.01937049 -1.1101033  -1.47453921]\n",
      "79 [ 0.68921342 -0.06898157 -1.04029196 -0.10115973]\n"
     ]
    }
   ],
   "source": [
    "for i in range(I):\n",
    "    print(i, alpha[:,i])"
   ]
  },
  {
   "cell_type": "markdown",
   "metadata": {},
   "source": [
    "Perhaps a histogram allows for a better global analysis:"
   ]
  },
  {
   "cell_type": "code",
   "execution_count": 23,
   "metadata": {},
   "outputs": [
    {
     "data": {
      "image/png": "[encoded data removed]",
      "text/plain": [
       "<matplotlib.figure.Figure at 0x1189c0550>"
      ]
     },
     "metadata": {},
     "output_type": "display_data"
    }
   ],
   "source": [
    "# histogram of biases towards mode 4 (car)\n",
    "plt.hist(alpha[3,:])\n",
    "plt.title(\"Biases towards mode 4\")\n",
    "plt.xlabel(\"alpha[4]\")\n",
    "plt.show()"
   ]
  },
  {
   "cell_type": "markdown",
   "metadata": {},
   "source": [
    "We can observed that, for most individuals the biases is around 0. However, we can also see that a few individuals really love their cars!\n",
    "\n",
    "Reflection exercise: can you think of ways in which you could use this model to try to identify policies (e.g. price changes or making terminals more efficient) that would allow to shift people's travel mode choices away from the car (e.g. towards public transport)?"
   ]
  }
 ],
 "metadata": {
  "kernelspec": {
   "display_name": "Python 3",
   "language": "python",
   "name": "python3"
  },
  "language_info": {
   "codemirror_mode": {
    "name": "ipython",
    "version": 3
   },
   "file_extension": ".py",
   "mimetype": "text/x-python",
   "name": "python",
   "nbconvert_exporter": "python",
   "pygments_lexer": "ipython3",
   "version": "3.6.3"
  }
 },
 "nbformat": 4,
 "nbformat_minor": 2
}
