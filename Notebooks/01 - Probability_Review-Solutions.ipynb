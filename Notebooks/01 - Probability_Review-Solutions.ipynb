{
 "cells": [
  {
   "cell_type": "markdown",
   "metadata": {},
   "source": [
    "### 42186 - Model Based Machine Learning"
   ]
  },
  {
   "cell_type": "markdown",
   "metadata": {},
   "source": [
    "Hello, welcome to our course on Model-Based Machine Learning. We hope you will enjoy and learn a lot of new powerful techniques for your future.\n",
    "\n"
   ]
  },
  {
   "cell_type": "markdown",
   "metadata": {},
   "source": [
    "# Week1. Probability and statistics review"
   ]
  },
  {
   "cell_type": "markdown",
   "metadata": {},
   "source": [
    "For a start, we need to review some concepts of probability and statistics. "
   ]
  },
  {
   "cell_type": "markdown",
   "metadata": {},
   "source": [
    "As usual in Python, the first thing to do is to import the necessary packages. Let's start with some usual ones for now..."
   ]
  },
  {
   "cell_type": "code",
   "execution_count": 1,
   "metadata": {},
   "outputs": [],
   "source": [
    "import numpy as np\n",
    "import matplotlib.pyplot as plt\n",
    "import math\n",
    "import pandas as pd\n",
    "%matplotlib inline"
   ]
  },
  {
   "cell_type": "markdown",
   "metadata": {},
   "source": [
    "## Part 1 - Random variables, independence, conditionality, Bayes theorem"
   ]
  },
  {
   "cell_type": "markdown",
   "metadata": {},
   "source": [
    "We are going to work on a 2D world for now, and a uniform distribution."
   ]
  },
  {
   "cell_type": "markdown",
   "metadata": {},
   "source": [
    "So, let's create N 2D points:"
   ]
  },
  {
   "cell_type": "code",
   "execution_count": 2,
   "metadata": {},
   "outputs": [],
   "source": [
    "N=500\n",
    "pts=np.random.uniform(size=(N,2)) "
   ]
  },
  {
   "cell_type": "markdown",
   "metadata": {},
   "source": [
    "Take a look at these points. You'll notice they all follow inside a [0,1]x[0,1] square..."
   ]
  },
  {
   "cell_type": "code",
   "execution_count": null,
   "metadata": {
    "collapsed": true
   },
   "outputs": [],
   "source": []
  },
  {
   "cell_type": "markdown",
   "metadata": {},
   "source": [
    "Can you count how many such points fall inside a circle centered at (0,0) and radius 1?"
   ]
  },
  {
   "cell_type": "code",
   "execution_count": 12,
   "metadata": {
    "collapsed": true
   },
   "outputs": [],
   "source": [
    "def in_circ(x, y):\n",
    "    return x**2+y**2-1<0"
   ]
  },
  {
   "cell_type": "code",
   "execution_count": 13,
   "metadata": {
    "collapsed": true
   },
   "outputs": [],
   "source": [
    "inc=sum([in_circ(x, y) for x, y in pts])"
   ]
  },
  {
   "cell_type": "code",
   "execution_count": 14,
   "metadata": {},
   "outputs": [
    {
     "data": {
      "text/plain": [
       "384"
      ]
     },
     "execution_count": 14,
     "metadata": {},
     "output_type": "execute_result"
    }
   ],
   "source": [
    "inc"
   ]
  },
  {
   "cell_type": "markdown",
   "metadata": {},
   "source": [
    "Consider A={A given point (x,y) falls inside the circle centered at (0,0) with radius 1}"
   ]
  },
  {
   "cell_type": "markdown",
   "metadata": {},
   "source": [
    "Calculate the probability of A, P(A)"
   ]
  },
  {
   "cell_type": "code",
   "execution_count": 15,
   "metadata": {
    "collapsed": true
   },
   "outputs": [],
   "source": [
    "total=len(pts)"
   ]
  },
  {
   "cell_type": "code",
   "execution_count": 16,
   "metadata": {
    "collapsed": true
   },
   "outputs": [],
   "source": [
    "p_a=inc/total"
   ]
  },
  {
   "cell_type": "markdown",
   "metadata": {},
   "source": [
    "Visualizations are often quite useful. Can you visualize both the points as well as the circle line?"
   ]
  },
  {
   "cell_type": "code",
   "execution_count": 17,
   "metadata": {
    "collapsed": true
   },
   "outputs": [],
   "source": [
    "circle_line=[]\n",
    "for x in np.arange(0, 1, .001):\n",
    "        y=math.sqrt(1-x**2)\n",
    "        circle_line.append([x, y])\n",
    "        \n",
    "circle_line=np.array(circle_line)"
   ]
  },
  {
   "cell_type": "code",
   "execution_count": 18,
   "metadata": {},
   "outputs": [
    {
     "data": {
      "text/plain": [
       "<matplotlib.collections.PathCollection at 0x10ec20438>"
      ]
     },
     "execution_count": 18,
     "metadata": {},
     "output_type": "execute_result"
    },
    {
     "data": {
      "image/png": "[encoded data removed]",
      "text/plain": [
       "<matplotlib.figure.Figure at 0x10f509b70>"
      ]
     },
     "metadata": {},
     "output_type": "display_data"
    }
   ],
   "source": [
    "plt.figure(figsize=(6,6))\n",
    "plt.scatter(pts[:,0], pts[:, 1])\n",
    "plt.scatter(circle_line[:,0], circle_line[:,1], c=\"black\", s=1)\n"
   ]
  },
  {
   "cell_type": "markdown",
   "metadata": {},
   "source": [
    "Just to link with your trigonometrics knowledge: what is the area of this circle (radius=1)? And what is the area of a quarter of that circle (the part that you just drew)?\n",
    "\n",
    "What is the relationship with that value and the probability that you just calculated (you can vary the number of points, N, to check your theory)?"
   ]
  },
  {
   "cell_type": "code",
   "execution_count": 19,
   "metadata": {},
   "outputs": [
    {
     "data": {
      "text/plain": [
       "0.7853981633974483"
      ]
     },
     "execution_count": 19,
     "metadata": {},
     "output_type": "execute_result"
    }
   ],
   "source": [
    "math.pi/4"
   ]
  },
  {
   "cell_type": "code",
   "execution_count": null,
   "metadata": {
    "collapsed": true
   },
   "outputs": [],
   "source": []
  },
  {
   "cell_type": "markdown",
   "metadata": {},
   "source": [
    "Now, let's add a new event B={A point (x,y) falls on the right hand side of the [0,1]x[0,1] square}"
   ]
  },
  {
   "cell_type": "markdown",
   "metadata": {},
   "source": [
    "Calculate p(B) "
   ]
  },
  {
   "cell_type": "code",
   "execution_count": 20,
   "metadata": {
    "collapsed": true
   },
   "outputs": [],
   "source": [
    "def in_right(x, y):\n",
    "    return x>=.5\n",
    "\n",
    "inr=sum([in_right(x, y) for x, y in pts])\n",
    "\n",
    "p_b=inr/total"
   ]
  },
  {
   "cell_type": "code",
   "execution_count": 21,
   "metadata": {},
   "outputs": [
    {
     "data": {
      "text/plain": [
       "0.55600000000000005"
      ]
     },
     "execution_count": 21,
     "metadata": {},
     "output_type": "execute_result"
    }
   ],
   "source": [
    "p_b"
   ]
  },
  {
   "cell_type": "markdown",
   "metadata": {},
   "source": [
    "So, now you have p(A) and p(B). Do you want to try calculating p(A,B)?\n",
    "\n",
    "Are they independent? Is there any reason to believe that they aren't?\n",
    "\n",
    "To check this, try two approaches:\n",
    "\n",
    "-- p(A,B)=P(A)*P(B)\n",
    "\n",
    "-- Just count the points that fulfill both A and B constraints (and divide by the total number of points... ;-) ).\n"
   ]
  },
  {
   "cell_type": "code",
   "execution_count": 22,
   "metadata": {},
   "outputs": [
    {
     "data": {
      "text/plain": [
       "0.42700800000000005"
      ]
     },
     "execution_count": 22,
     "metadata": {},
     "output_type": "execute_result"
    }
   ],
   "source": [
    "p_a*p_b"
   ]
  },
  {
   "cell_type": "code",
   "execution_count": 23,
   "metadata": {},
   "outputs": [
    {
     "data": {
      "text/plain": [
       "0.34399999999999997"
      ]
     },
     "execution_count": 23,
     "metadata": {},
     "output_type": "execute_result"
    }
   ],
   "source": [
    "inr_and_c=sum([in_right(x, y) and in_circ(x,y) for x, y in pts])\n",
    "inr_and_c/total"
   ]
  },
  {
   "cell_type": "markdown",
   "metadata": {},
   "source": [
    "They are different! Why?... If you are in doubt, take a look at the picture..."
   ]
  },
  {
   "cell_type": "code",
   "execution_count": null,
   "metadata": {
    "collapsed": true
   },
   "outputs": [],
   "source": []
  },
  {
   "cell_type": "markdown",
   "metadata": {},
   "source": [
    "Maybe they are not independent, after all... if so, their joint probability is instead"
   ]
  },
  {
   "cell_type": "markdown",
   "metadata": {},
   "source": [
    "p(a,b)=p(a|b)*p(b)\n"
   ]
  },
  {
   "cell_type": "markdown",
   "metadata": {},
   "source": [
    "Please calculate p(a|b), in order to get the right value..."
   ]
  },
  {
   "cell_type": "code",
   "execution_count": 24,
   "metadata": {
    "collapsed": true
   },
   "outputs": [],
   "source": [
    "inc_given_inr=sum([in_circ(x, y) for x, y in pts if in_right(x, y)])\n",
    "inr_total=sum([1 for x, y in pts if in_right(x, y)])\n",
    "p_a_given_b=inc_given_inr/inr_total"
   ]
  },
  {
   "cell_type": "code",
   "execution_count": 25,
   "metadata": {},
   "outputs": [
    {
     "data": {
      "text/plain": [
       "0.61870503597122306"
      ]
     },
     "execution_count": 25,
     "metadata": {},
     "output_type": "execute_result"
    }
   ],
   "source": [
    "p_a_given_b"
   ]
  },
  {
   "cell_type": "markdown",
   "metadata": {},
   "source": [
    "Now you calculate p(a,b)=p(a|b)*p(b)"
   ]
  },
  {
   "cell_type": "code",
   "execution_count": 26,
   "metadata": {},
   "outputs": [
    {
     "data": {
      "text/plain": [
       "0.34400000000000003"
      ]
     },
     "execution_count": 26,
     "metadata": {},
     "output_type": "execute_result"
    }
   ],
   "source": [
    "p_a_given_b*p_b"
   ]
  },
  {
   "cell_type": "markdown",
   "metadata": {},
   "source": [
    "Compare with the values above. Does it make more sense now? \n",
    "\n",
    "Another well known property is the Bayes theorem:\n",
    "\n",
    "$p(b|a)=\\frac{p(a|b)p(b)}{p(a)}$\n",
    "\n",
    "Calculate the p(b|a) using the Bayes theorem, and calculate it directly from data. Are they converging to the same value?\n"
   ]
  },
  {
   "cell_type": "code",
   "execution_count": 27,
   "metadata": {},
   "outputs": [
    {
     "data": {
      "text/plain": [
       "0.44791666666666669"
      ]
     },
     "execution_count": 27,
     "metadata": {},
     "output_type": "execute_result"
    }
   ],
   "source": [
    "p_b_given_a=p_a_given_b*p_b/p_a\n",
    "p_b_given_a"
   ]
  },
  {
   "cell_type": "code",
   "execution_count": 28,
   "metadata": {
    "scrolled": true
   },
   "outputs": [
    {
     "data": {
      "text/plain": [
       "0.44791666666666669"
      ]
     },
     "execution_count": 28,
     "metadata": {},
     "output_type": "execute_result"
    }
   ],
   "source": [
    "inr_given_inc=sum([in_right(x, y) for x, y in pts if in_circ(x, y)])\n",
    "inc_total=sum([1 for x, y in pts if in_circ(x, y)])\n",
    "inr_given_inc/inc_total"
   ]
  },
  {
   "cell_type": "markdown",
   "metadata": {},
   "source": [
    "Look at the following table:"
   ]
  },
  {
   "cell_type": "code",
   "execution_count": 29,
   "metadata": {},
   "outputs": [
    {
     "name": "stdout",
     "output_type": "stream",
     "text": [
      "             T=Hot    T=Mild    T=Cold\n",
      "W=Sunny   0.068966  0.137931  0.068966\n",
      "W=Cloudy  0.344828  0.241379  0.137931\n"
     ]
    }
   ],
   "source": [
    "f=pd.DataFrame([[0.068966, 0.137931, 0.068966], [0.344828, 0.241379, 0.137931]], columns=['T=Hot', 'T=Mild', 'T=Cold'], index=['W=Sunny', \"W=Cloudy\"])\n",
    "print(f)"
   ]
  },
  {
   "cell_type": "markdown",
   "metadata": {},
   "source": [
    "Marginalization allows us to compute distributions over a selection of variables that we want. For example, for the table above, that represents P(W, T) in a non-normalized way, we could \"marginalize out weather\", i.e. calculate P(T), by doing \n",
    "\n",
    "$P(T)=\\sum_W P(W, T)$\n",
    "\n",
    "Marginalize out weather"
   ]
  },
  {
   "cell_type": "code",
   "execution_count": 66,
   "metadata": {},
   "outputs": [
    {
     "data": {
      "text/plain": [
       "T=Hot     0.413794\n",
       "T=Mild    0.379310\n",
       "T=Cold    0.206897\n",
       "dtype: float64"
      ]
     },
     "execution_count": 66,
     "metadata": {},
     "output_type": "execute_result"
    }
   ],
   "source": [
    "f.sum(axis=0) #axis=0 means we're summing over the lines"
   ]
  },
  {
   "cell_type": "markdown",
   "metadata": {},
   "source": [
    "Marginalize out temperature"
   ]
  },
  {
   "cell_type": "code",
   "execution_count": 67,
   "metadata": {},
   "outputs": [
    {
     "data": {
      "text/plain": [
       "W=Sunny     0.275863\n",
       "W=Cloudy    0.724138\n",
       "dtype: float64"
      ]
     },
     "execution_count": 67,
     "metadata": {},
     "output_type": "execute_result"
    }
   ],
   "source": [
    "f.sum(axis=1)"
   ]
  },
  {
   "cell_type": "markdown",
   "metadata": {},
   "source": [
    "--------"
   ]
  },
  {
   "cell_type": "markdown",
   "metadata": {},
   "source": [
    "## Part 2 - Independence"
   ]
  },
  {
   "cell_type": "markdown",
   "metadata": {},
   "source": [
    "Let's get further into the concept of **independence**"
   ]
  },
  {
   "cell_type": "markdown",
   "metadata": {},
   "source": [
    "To begin with, let's create a small dataset of size N. We will start with two random variables, Z and T, both uniformly distributed. \n",
    "\n",
    "Each random variable will be an integer value in {0, 1, 2} (you can change this later, of course). "
   ]
  },
  {
   "cell_type": "code",
   "execution_count": 32,
   "metadata": {
    "collapsed": true
   },
   "outputs": [],
   "source": [
    "N=1000\n",
    "D=3\n",
    "\n",
    "Z=np.random.randint(D, size=N)\n",
    "T=np.random.randint(D, size=N)"
   ]
  },
  {
   "cell_type": "markdown",
   "metadata": {},
   "source": [
    "Let's calculate the probability of each different value of Z. Take a look at this code. It may be useful later"
   ]
  },
  {
   "cell_type": "code",
   "execution_count": 33,
   "metadata": {},
   "outputs": [
    {
     "name": "stdout",
     "output_type": "stream",
     "text": [
      "p(Z=0)=0.350000\n",
      "p(Z=1)=0.320000\n",
      "p(Z=2)=0.330000\n"
     ]
    }
   ],
   "source": [
    "z_items, z_counts=np.unique(Z, return_counts=True, axis=0) #returns a list of different items in Z; it also counts how \n",
    "                                                         #many times each one appears\n",
    "\n",
    "#calculates the p(Z=z), for each possible value of z\n",
    "for item, ct in zip(z_items, z_counts):     \n",
    "    print(\"p(Z=%d)=%f\"%(item, ct/N))"
   ]
  },
  {
   "cell_type": "markdown",
   "metadata": {},
   "source": [
    "Actually, we're going to reuse the above code quite a lot. Let's make a new function, then... "
   ]
  },
  {
   "cell_type": "code",
   "execution_count": 34,
   "metadata": {
    "collapsed": true
   },
   "outputs": [],
   "source": [
    "#Function p. It receives a list of values, K, and simply prints the probability of each of its values\n",
    "#nam and given - Two strings just for printing. Just run this once and you'll see... ;-)\n",
    "def p(nam, K, given=\"\"):    \n",
    "    k_items, k_counts=np.unique(K, return_counts=True, axis=0)\n",
    "    for item, ct in zip(k_items, k_counts):\n",
    "        print(\"p(%s=%s%s)=%f\"%(nam, item, given, ct/sum(k_counts)))"
   ]
  },
  {
   "cell_type": "markdown",
   "metadata": {},
   "source": [
    "Let's try it with our variables Z and T"
   ]
  },
  {
   "cell_type": "code",
   "execution_count": 35,
   "metadata": {},
   "outputs": [
    {
     "name": "stdout",
     "output_type": "stream",
     "text": [
      "p(Z=0)=0.350000\n",
      "p(Z=1)=0.320000\n",
      "p(Z=2)=0.330000\n",
      "p(T=0)=0.359000\n",
      "p(T=1)=0.304000\n",
      "p(T=2)=0.337000\n"
     ]
    }
   ],
   "source": [
    "p('Z', Z)\n",
    "p('T', T)"
   ]
  },
  {
   "cell_type": "markdown",
   "metadata": {},
   "source": [
    "ok. So, we have the probability of each value, according to this dataset. \n",
    "\n",
    "Assuming that both Z and T are uniformly distributed, the calculation for the probability of each should be trivial, right? What is it?"
   ]
  },
  {
   "cell_type": "code",
   "execution_count": 36,
   "metadata": {},
   "outputs": [
    {
     "data": {
      "text/plain": [
       "(0.3333333333333333, 0.3333333333333333)"
      ]
     },
     "execution_count": 36,
     "metadata": {},
     "output_type": "execute_result"
    }
   ],
   "source": [
    "p_z=1/D\n",
    "p_t=1/D\n",
    "p_z, p_t"
   ]
  },
  {
   "cell_type": "markdown",
   "metadata": {},
   "source": [
    "Does it match the above? If you're in doubt, you can increase the value of N, the dataset size. As N grows, it should approximate your calculation... "
   ]
  },
  {
   "cell_type": "markdown",
   "metadata": {},
   "source": [
    "Let's now think of the joint distribution of Z and T. In other words, how these two variables seem to co-vary, together. The first thing to do is to \"align\" them, i.e., re-create a new random variable (Z_T), that is a pair of observations, Z and T. "
   ]
  },
  {
   "cell_type": "code",
   "execution_count": 37,
   "metadata": {
    "collapsed": true
   },
   "outputs": [],
   "source": [
    "Z_T=np.stack((Z,T), axis=-1)  #Check the result of this operation, to understand what it does..."
   ]
  },
  {
   "cell_type": "code",
   "execution_count": null,
   "metadata": {
    "collapsed": true
   },
   "outputs": [],
   "source": []
  },
  {
   "cell_type": "markdown",
   "metadata": {},
   "source": [
    "So, let's use the function above, to calculate the join distribution"
   ]
  },
  {
   "cell_type": "code",
   "execution_count": 38,
   "metadata": {},
   "outputs": [
    {
     "name": "stdout",
     "output_type": "stream",
     "text": [
      "p(Z,T=[0 0])=0.122000\n",
      "p(Z,T=[0 1])=0.108000\n",
      "p(Z,T=[0 2])=0.120000\n",
      "p(Z,T=[1 0])=0.118000\n",
      "p(Z,T=[1 1])=0.094000\n",
      "p(Z,T=[1 2])=0.108000\n",
      "p(Z,T=[2 0])=0.119000\n",
      "p(Z,T=[2 1])=0.102000\n",
      "p(Z,T=[2 2])=0.109000\n"
     ]
    }
   ],
   "source": [
    "p(\"Z,T\", Z_T)"
   ]
  },
  {
   "cell_type": "markdown",
   "metadata": {},
   "source": [
    "Are Z and T independent? If yes, the formula for their join distribution is trivial. Please calculate it (and check if it verifies)."
   ]
  },
  {
   "cell_type": "code",
   "execution_count": 39,
   "metadata": {
    "collapsed": true
   },
   "outputs": [],
   "source": [
    "p_z_t=p_z*p_t"
   ]
  },
  {
   "cell_type": "code",
   "execution_count": 40,
   "metadata": {},
   "outputs": [
    {
     "data": {
      "text/plain": [
       "0.1111111111111111"
      ]
     },
     "execution_count": 40,
     "metadata": {},
     "output_type": "execute_result"
    }
   ],
   "source": [
    "p_z_t"
   ]
  },
  {
   "cell_type": "markdown",
   "metadata": {},
   "source": [
    "Let's create two more variables, both based on Z. "
   ]
  },
  {
   "cell_type": "code",
   "execution_count": 41,
   "metadata": {
    "collapsed": true
   },
   "outputs": [],
   "source": [
    "betaY=-2    \n",
    "betaX=1\n",
    "Y=betaY*Z\n",
    "X=betaX*Z"
   ]
  },
  {
   "cell_type": "markdown",
   "metadata": {},
   "source": [
    "Are they independent? What do you think? A good way to see is by plotting... do you want to do it?"
   ]
  },
  {
   "cell_type": "code",
   "execution_count": 42,
   "metadata": {},
   "outputs": [
    {
     "data": {
      "text/plain": [
       "<matplotlib.collections.PathCollection at 0x10ef8b7f0>"
      ]
     },
     "execution_count": 42,
     "metadata": {},
     "output_type": "execute_result"
    },
    {
     "data": {
      "image/png": "[encoded data removed]",
      "text/plain": [
       "<matplotlib.figure.Figure at 0x10ec444e0>"
      ]
     },
     "metadata": {},
     "output_type": "display_data"
    }
   ],
   "source": [
    "plt.scatter(X, Y)"
   ]
  },
  {
   "cell_type": "markdown",
   "metadata": {},
   "source": [
    "What should it look like when variables are independent? And when they are correlated?"
   ]
  },
  {
   "cell_type": "markdown",
   "metadata": {},
   "source": [
    "Let's check their joint distribution, then... "
   ]
  },
  {
   "cell_type": "code",
   "execution_count": 43,
   "metadata": {},
   "outputs": [
    {
     "name": "stdout",
     "output_type": "stream",
     "text": [
      "p(X,Y=[0 0])=0.350000\n",
      "p(X,Y=[ 1 -2])=0.320000\n",
      "p(X,Y=[ 2 -4])=0.330000\n"
     ]
    }
   ],
   "source": [
    "X_Y=np.stack((X,Y), axis=-1)\n",
    "p(\"X,Y\", X_Y)\n"
   ]
  },
  {
   "cell_type": "markdown",
   "metadata": {},
   "source": [
    "Notice that, for all other value combinations (e.g. X,Y=[0,-2]), the probability is zero.\n",
    "\n",
    "If X and Y are independent, then the product of their marginal probabilities should be equal to the values above, right? Do you want to calculate?"
   ]
  },
  {
   "cell_type": "code",
   "execution_count": 44,
   "metadata": {},
   "outputs": [
    {
     "name": "stdout",
     "output_type": "stream",
     "text": [
      "p(X=0)=0.350000\n",
      "p(X=1)=0.320000\n",
      "p(X=2)=0.330000\n",
      "p(Y=0)=0.350000\n",
      "p(Y=-4)=0.330000\n",
      "p(Y=-2)=0.320000\n"
     ]
    }
   ],
   "source": [
    "p(\"X\", X)\n",
    "p(\"Y\", Y)"
   ]
  },
  {
   "cell_type": "code",
   "execution_count": 45,
   "metadata": {},
   "outputs": [
    {
     "data": {
      "text/plain": [
       "0.109561"
      ]
     },
     "execution_count": 45,
     "metadata": {},
     "output_type": "execute_result"
    }
   ],
   "source": [
    ".331*.331"
   ]
  },
  {
   "cell_type": "markdown",
   "metadata": {},
   "source": [
    "Should the values match at all? Let's try instead to calculate the conditional probabilities, of and X and Y, given Z."
   ]
  },
  {
   "cell_type": "markdown",
   "metadata": {},
   "source": [
    "To do it, directly on the data, we need to calculate, for EACH value of Z, the distributions for both X and Y.\n",
    "\n",
    "This means that we need to organize the data accordingly. How about using a dictionary? "
   ]
  },
  {
   "cell_type": "code",
   "execution_count": 46,
   "metadata": {
    "collapsed": true
   },
   "outputs": [],
   "source": [
    "from collections import defaultdict\n",
    "\n",
    "z_dict=defaultdict(list)\n",
    "\n",
    "for x, y, z in zip(X, Y, Z):\n",
    "    z_dict[z].append([x,y])\n",
    "    "
   ]
  },
  {
   "cell_type": "markdown",
   "metadata": {},
   "source": [
    "To make sure you understand the code above, don't forget to check z_dict carefully..."
   ]
  },
  {
   "cell_type": "code",
   "execution_count": null,
   "metadata": {
    "collapsed": true
   },
   "outputs": [],
   "source": []
  },
  {
   "cell_type": "markdown",
   "metadata": {},
   "source": [
    "The code below uses the dictionary to calculate the conditional marginal and joint distributions. Check it carefully."
   ]
  },
  {
   "cell_type": "code",
   "execution_count": 47,
   "metadata": {},
   "outputs": [
    {
     "name": "stdout",
     "output_type": "stream",
     "text": [
      "p(X=1|Z=1)=1.000000\n",
      "p(Y=-2|Z=1)=1.000000\n",
      "p(X_Y=[ 1 -2]|Z=1)=1.000000\n",
      "p(X=0|Z=0)=1.000000\n",
      "p(Y=0|Z=0)=1.000000\n",
      "p(X_Y=[0 0]|Z=0)=1.000000\n",
      "p(X=2|Z=2)=1.000000\n",
      "p(Y=-4|Z=2)=1.000000\n",
      "p(X_Y=[ 2 -4]|Z=2)=1.000000\n"
     ]
    }
   ],
   "source": [
    "for z in z_dict:\n",
    "    X_Y=z_dict[z]\n",
    "    X=np.array(X_Y)[:,0]\n",
    "    Y=np.array(X_Y)[:,1]  \n",
    "    p(\"X\", X, \"|Z=%d\"%z)\n",
    "    p(\"Y\", Y,\"|Z=%d\"%z)\n",
    "    p(\"X_Y\", X_Y, \"|Z=%d\"%z)"
   ]
  },
  {
   "cell_type": "markdown",
   "metadata": {},
   "source": [
    "So, what do you conclude? Is it true that X is independent of Y given Z?"
   ]
  },
  {
   "cell_type": "markdown",
   "metadata": {},
   "source": []
  },
  {
   "cell_type": "markdown",
   "metadata": {},
   "source": [
    "The example above was particularly odd, because there is NO randomness involved (i.e. X is **exactly** betaX times Z). As a consequence, the probabilities are quite extreme. \n",
    "\n",
    "Try to redo the whole exercise, by adding a little randomness to X and Y (don't forget to keep them as integers). Notice how the conditional independence property varies of \"intensity\", as you add more or less randomness... "
   ]
  },
  {
   "cell_type": "code",
   "execution_count": 48,
   "metadata": {},
   "outputs": [
    {
     "data": {
      "text/plain": [
       "<matplotlib.collections.PathCollection at 0x10f0f7828>"
      ]
     },
     "execution_count": 48,
     "metadata": {},
     "output_type": "execute_result"
    },
    {
     "data": {
      "image/png": "[encoded data removed]",
      "text/plain": [
       "<matplotlib.figure.Figure at 0x10eecb128>"
      ]
     },
     "metadata": {},
     "output_type": "display_data"
    }
   ],
   "source": [
    "betaY=-2\n",
    "betaX=1\n",
    "Y=betaY*Z+np.random.randint(3,size=len(Z))-1\n",
    "X=betaX*Z+np.random.randint(3,size=len(Z))-1\n",
    "plt.scatter(X, Y)"
   ]
  },
  {
   "cell_type": "code",
   "execution_count": 49,
   "metadata": {},
   "outputs": [
    {
     "name": "stdout",
     "output_type": "stream",
     "text": [
      "p(X,Y=[0 0])=0.035000\n",
      "p(X,Y=[0 1])=0.036000\n",
      "p(X,Y=[ 0 -3])=0.038000\n",
      "p(X,Y=[ 0 -2])=0.035000\n",
      "p(X,Y=[ 0 -1])=0.062000\n",
      "p(X,Y=[1 0])=0.051000\n",
      "p(X,Y=[1 1])=0.041000\n",
      "p(X,Y=[ 1 -5])=0.040000\n",
      "p(X,Y=[ 1 -4])=0.037000\n",
      "p(X,Y=[ 1 -3])=0.068000\n",
      "p(X,Y=[ 1 -2])=0.037000\n",
      "p(X,Y=[ 1 -1])=0.070000\n",
      "p(X,Y=[ 2 -5])=0.039000\n",
      "p(X,Y=[ 2 -4])=0.041000\n",
      "p(X,Y=[ 2 -3])=0.073000\n",
      "p(X,Y=[ 2 -2])=0.031000\n",
      "p(X,Y=[ 2 -1])=0.044000\n",
      "p(X,Y=[ 3 -5])=0.041000\n",
      "p(X,Y=[ 3 -4])=0.031000\n",
      "p(X,Y=[ 3 -3])=0.030000\n",
      "p(X,Y=[-1  0])=0.027000\n",
      "p(X,Y=[-1  1])=0.042000\n",
      "p(X,Y=[-1 -1])=0.051000\n"
     ]
    }
   ],
   "source": [
    "X_Y=np.stack((X,Y), axis=-1)\n",
    "p(\"X,Y\", X_Y)"
   ]
  },
  {
   "cell_type": "code",
   "execution_count": 50,
   "metadata": {},
   "outputs": [
    {
     "name": "stdout",
     "output_type": "stream",
     "text": [
      "p(X=0)=0.206000\n",
      "p(X=1)=0.344000\n",
      "p(X=2)=0.228000\n",
      "p(X=3)=0.102000\n",
      "p(X=-1)=0.120000\n",
      "p(Y=0)=0.113000\n",
      "p(Y=1)=0.119000\n",
      "p(Y=-5)=0.120000\n",
      "p(Y=-4)=0.109000\n",
      "p(Y=-3)=0.209000\n",
      "p(Y=-2)=0.103000\n",
      "p(Y=-1)=0.227000\n"
     ]
    }
   ],
   "source": [
    "p(\"X\", X)\n",
    "p(\"Y\", Y)"
   ]
  },
  {
   "cell_type": "code",
   "execution_count": 51,
   "metadata": {},
   "outputs": [
    {
     "data": {
      "text/plain": [
       "0.0242"
      ]
     },
     "execution_count": 51,
     "metadata": {},
     "output_type": "execute_result"
    }
   ],
   "source": [
    ".22*.11"
   ]
  },
  {
   "cell_type": "code",
   "execution_count": 52,
   "metadata": {},
   "outputs": [
    {
     "name": "stdout",
     "output_type": "stream",
     "text": [
      "p(X=0|Z=1)=0.315625\n",
      "p(X=1|Z=1)=0.331250\n",
      "p(X=2|Z=1)=0.353125\n",
      "p(Y=-3|Z=1)=0.337500\n",
      "p(Y=-2|Z=1)=0.321875\n",
      "p(Y=-1|Z=1)=0.340625\n",
      "p(X_Y=[ 0 -3]|Z=1)=0.118750\n",
      "p(X_Y=[ 0 -2]|Z=1)=0.109375\n",
      "p(X_Y=[ 0 -1]|Z=1)=0.087500\n",
      "p(X_Y=[ 1 -3]|Z=1)=0.100000\n",
      "p(X_Y=[ 1 -2]|Z=1)=0.115625\n",
      "p(X_Y=[ 1 -1]|Z=1)=0.115625\n",
      "p(X_Y=[ 2 -3]|Z=1)=0.118750\n",
      "p(X_Y=[ 2 -2]|Z=1)=0.096875\n",
      "p(X_Y=[ 2 -1]|Z=1)=0.137500\n",
      "p(X=0|Z=0)=0.300000\n",
      "p(X=1|Z=0)=0.357143\n",
      "p(X=-1|Z=0)=0.342857\n",
      "p(Y=0|Z=0)=0.322857\n",
      "p(Y=1|Z=0)=0.340000\n",
      "p(Y=-1|Z=0)=0.337143\n",
      "p(X_Y=[0 0]|Z=0)=0.100000\n",
      "p(X_Y=[0 1]|Z=0)=0.102857\n",
      "p(X_Y=[ 0 -1]|Z=0)=0.097143\n",
      "p(X_Y=[1 0]|Z=0)=0.145714\n",
      "p(X_Y=[1 1]|Z=0)=0.117143\n",
      "p(X_Y=[ 1 -1]|Z=0)=0.094286\n",
      "p(X_Y=[-1  0]|Z=0)=0.077143\n",
      "p(X_Y=[-1  1]|Z=0)=0.120000\n",
      "p(X_Y=[-1 -1]|Z=0)=0.145714\n",
      "p(X=1|Z=2)=0.342424\n",
      "p(X=2|Z=2)=0.348485\n",
      "p(X=3|Z=2)=0.309091\n",
      "p(Y=-5|Z=2)=0.363636\n",
      "p(Y=-4|Z=2)=0.330303\n",
      "p(Y=-3|Z=2)=0.306061\n",
      "p(X_Y=[ 1 -5]|Z=2)=0.121212\n",
      "p(X_Y=[ 1 -4]|Z=2)=0.112121\n",
      "p(X_Y=[ 1 -3]|Z=2)=0.109091\n",
      "p(X_Y=[ 2 -5]|Z=2)=0.118182\n",
      "p(X_Y=[ 2 -4]|Z=2)=0.124242\n",
      "p(X_Y=[ 2 -3]|Z=2)=0.106061\n",
      "p(X_Y=[ 3 -5]|Z=2)=0.124242\n",
      "p(X_Y=[ 3 -4]|Z=2)=0.093939\n",
      "p(X_Y=[ 3 -3]|Z=2)=0.090909\n"
     ]
    }
   ],
   "source": [
    "from collections import defaultdict\n",
    "\n",
    "z_dict=defaultdict(list)\n",
    "\n",
    "for x, y, z in zip(X, Y, Z):\n",
    "    z_dict[z].append([x,y])\n",
    "    \n",
    "for z in z_dict:\n",
    "    X_Y=z_dict[z]\n",
    "    x=np.array(X_Y)[:,0]\n",
    "    y=np.array(X_Y)[:,1]  \n",
    "    p(\"X\", x, \"|Z=%d\"%z)\n",
    "    p(\"Y\", y,\"|Z=%d\"%z)\n",
    "    p(\"X_Y\", X_Y, \"|Z=%d\"%z)\n",
    "    "
   ]
  },
  {
   "cell_type": "code",
   "execution_count": 53,
   "metadata": {},
   "outputs": [
    {
     "data": {
      "text/plain": [
       "0.1296"
      ]
     },
     "execution_count": 53,
     "metadata": {},
     "output_type": "execute_result"
    }
   ],
   "source": [
    ".36*.36"
   ]
  },
  {
   "cell_type": "code",
   "execution_count": 54,
   "metadata": {},
   "outputs": [
    {
     "data": {
      "text/plain": [
       "0.10890000000000001"
      ]
     },
     "execution_count": 54,
     "metadata": {},
     "output_type": "execute_result"
    }
   ],
   "source": [
    ".33*.33"
   ]
  },
  {
   "cell_type": "markdown",
   "metadata": {},
   "source": [
    "Finally, let's try a different perspective on conditional independence: why does it actually matter??\n",
    "\n",
    "Particularly, we want to understand the meaning of the following sentence:\n",
    "\n",
    "**\"If we know Z, then knowing about Y tells us nothing about X\"**\n",
    "\n"
   ]
  },
  {
   "cell_type": "markdown",
   "metadata": {},
   "source": [
    "Using your small dataset (X, Y, Z), you will try to make linear regression prediction models. Our goal is to \"know about X\", i.e. X will be the target (or dependent) variable in our linear regression. \n",
    "\n",
    "Compare the following models:\n",
    "\n",
    "- $X=\\beta_1*Z$\n",
    "- $X=\\beta_1*Y+\\beta_2*Z$\n",
    "- $X=\\beta_1*Y$"
   ]
  },
  {
   "cell_type": "code",
   "execution_count": 55,
   "metadata": {
    "collapsed": true
   },
   "outputs": [],
   "source": [
    "from sklearn.linear_model import LinearRegression\n",
    "\n",
    "lr1=LinearRegression(fit_intercept=False)\n",
    "lr2=LinearRegression(fit_intercept=False)\n",
    "lr3=LinearRegression(fit_intercept=False)\n",
    "lr4=LinearRegression(fit_intercept=False)"
   ]
  },
  {
   "cell_type": "code",
   "execution_count": 56,
   "metadata": {
    "collapsed": true
   },
   "outputs": [],
   "source": [
    "X=np.array(X, ndmin=2)\n",
    "Y=np.array(Y, ndmin=2)\n",
    "Z=np.array(Z, ndmin=2)\n"
   ]
  },
  {
   "cell_type": "code",
   "execution_count": 57,
   "metadata": {
    "collapsed": true
   },
   "outputs": [],
   "source": [
    "Y_Z=np.stack((Y,Z), axis=-1)[0]"
   ]
  },
  {
   "cell_type": "code",
   "execution_count": 58,
   "metadata": {},
   "outputs": [
    {
     "name": "stderr",
     "output_type": "stream",
     "text": [
      "//anaconda/envs/snakes/lib/python3.6/site-packages/scipy/linalg/basic.py:1018: RuntimeWarning: internal gelsd driver lwork query error, required iwork dimension not returned. This is likely the result of LAPACK bug 0038, fixed in LAPACK 3.2.2 (released July 21, 2010). Falling back to 'gelss' driver.\n",
      "  warnings.warn(mesg, RuntimeWarning)\n"
     ]
    },
    {
     "data": {
      "text/plain": [
       "LinearRegression(copy_X=True, fit_intercept=False, n_jobs=1, normalize=False)"
      ]
     },
     "execution_count": 58,
     "metadata": {},
     "output_type": "execute_result"
    }
   ],
   "source": [
    "lr1.fit(Z.T, X.T)\n",
    "lr3.fit(Y_Z, X.T)\n",
    "lr4.fit(Y.T, X.T)"
   ]
  },
  {
   "cell_type": "code",
   "execution_count": 59,
   "metadata": {},
   "outputs": [
    {
     "name": "stdout",
     "output_type": "stream",
     "text": [
      "[[ 0.99390244]]\n",
      "[[ 0.03823156  1.0712281 ]]\n",
      "[[-0.44304483]]\n"
     ]
    }
   ],
   "source": [
    "print(lr1.coef_)\n",
    "print(lr3.coef_)\n",
    "print(lr4.coef_)"
   ]
  },
  {
   "cell_type": "markdown",
   "metadata": {},
   "source": [
    "Notice the coefficients, what do they mean?"
   ]
  },
  {
   "cell_type": "markdown",
   "metadata": {},
   "source": [
    "--------"
   ]
  },
  {
   "cell_type": "markdown",
   "metadata": {},
   "source": [
    "## Part 3 - Expectation of discrete variables"
   ]
  },
  {
   "cell_type": "markdown",
   "metadata": {},
   "source": [
    "Calculate the expected value of X, using\n",
    "\n",
    "$E(X)=\\sum_x xP(x)$"
   ]
  },
  {
   "cell_type": "code",
   "execution_count": 60,
   "metadata": {
    "collapsed": true
   },
   "outputs": [],
   "source": [
    "vals, counts=np.unique(X, return_counts=True)\n",
    "tot=sum(counts)"
   ]
  },
  {
   "cell_type": "code",
   "execution_count": 61,
   "metadata": {
    "collapsed": true
   },
   "outputs": [],
   "source": [
    "EX=0\n",
    "for v, c in zip(vals, counts):\n",
    "    EX+=v*c/tot"
   ]
  },
  {
   "cell_type": "code",
   "execution_count": 62,
   "metadata": {},
   "outputs": [
    {
     "data": {
      "text/plain": [
       "0.98599999999999999"
      ]
     },
     "execution_count": 62,
     "metadata": {},
     "output_type": "execute_result"
    }
   ],
   "source": [
    "EX"
   ]
  },
  {
   "cell_type": "markdown",
   "metadata": {},
   "source": [
    "Compare it with the mean of X (X.mean() )"
   ]
  },
  {
   "cell_type": "code",
   "execution_count": 63,
   "metadata": {},
   "outputs": [
    {
     "data": {
      "text/plain": [
       "0.98599999999999999"
      ]
     },
     "execution_count": 63,
     "metadata": {},
     "output_type": "execute_result"
    }
   ],
   "source": [
    "X.mean()"
   ]
  },
  {
   "cell_type": "markdown",
   "metadata": {},
   "source": [
    "-------"
   ]
  }
 ],
 "metadata": {
  "kernelspec": {
   "display_name": "Python 3",
   "language": "python",
   "name": "python3"
  },
  "language_info": {
   "codemirror_mode": {
    "name": "ipython",
    "version": 3
   },
   "file_extension": ".py",
   "mimetype": "text/x-python",
   "name": "python",
   "nbconvert_exporter": "python",
   "pygments_lexer": "ipython3",
   "version": "3.6.2"
  }
 },
 "nbformat": 4,
 "nbformat_minor": 1
}
